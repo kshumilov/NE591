{
 "cells": [
  {
   "cell_type": "markdown",
   "id": "7764b58a-4b21-436a-bc0d-6c8aeef8b967",
   "metadata": {},
   "source": [
    "# Project Milestone 05 (NE 591) - Parallel Diffusion Code\n",
    "- **Author**: Kirill Shumilov\n",
    "- **Date**: Fri, March 21, 2025"
   ]
  },
  {
   "cell_type": "code",
   "execution_count": 2,
   "id": "b41eed0e-954d-4ce6-8841-9373c02ec04d",
   "metadata": {},
   "outputs": [],
   "source": [
    "import pandas as pd\n",
    "import matplotlib.pyplot as plt\n",
    "import pathlib\n",
    "\n",
    "analysis_dir = pathlib.Path('.').absolute()\n",
    "examples_dir = analysis_dir.parent / 'examples'\n",
    "tests_dir = analysis_dir / 'tests'\n",
    "executable = analysis_dir.parent / 'shumilov_project02'"
   ]
  },
  {
   "cell_type": "markdown",
   "id": "dc69ec2a-4d81-415c-a12e-7c5dab7dff0d",
   "metadata": {},
   "source": [
    "# 1. Description of Work"
   ]
  },
  {
   "cell_type": "markdown",
   "id": "f773988c-076a-404b-9300-b6ffb9da8f09",
   "metadata": {},
   "source": [
    "In this project milestone, we implement Parallel Point-Jacobi algorithm to solving a finite-difference 2D Neutron Diffusion problem in a non-multiplying medium. To acheive this task, two major ideas are used:\n",
    "\n",
    "1. Partitioning of the source/flux matrices among processes\n",
    "\n",
    "Both the source and the flux matrices are partioned into blocks of appropriate size and distributed among processes, arranged in a 2D cartesian topology. At each iteration, each process updates its flux block according to serial PJ algorithm. At the end of each iteration, each process distributes its halo, a region of single-cell wide among the neigbhoring cells. The distributions is done in checker-board style. This means that each process on 2D grid is colored into \"red\" and \"blue\" colors, such that each \"red\" process boarders only \"blue\" processes. During the halo update, \"blue\" processes chare their halo with boardering \"red\" first. Once the data exchange is complete, the processes shift roles: now \"red\" processes share their halos. This allows to exchange data in a non-blocking way.\n",
    "\n",
    "2. Applying the operator $A$ (from $Ax=b$) using the stencil method. \n",
    "\n",
    "The diffusion equation can be written in the form:\n",
    "\\begin{equation}\n",
    "-D\\left[\\frac{\\phi_{i+1,j}-2\\phi_{i,j}+2\\phi_{i+1,j}}{\\delta^2} + \\frac{\\phi_{i,j-1}-2\\phi_{i,j}+2\\phi_{i,j + 1}}{\\gamma^2}\\right] + \\Sigma_a\\phi_{i,j} = q_{ij}\n",
    "\\end{equation}\n",
    "where $D$ is the diffusion factor, $\\Sigma_a$ - the macroscopic absorption cross-section, $q_{i,j}$ is the source strenght in the cell $(x_i,y_j)$, $\\phi_{i,j}$ is the scalar flux in the cell $(x_i,y_j)$, and $\\delta$ and $\\gamma$ are the cell sizes in $x$ and $y$ respectively. This produces a matrix with only 5 non-zero diagonals.\n",
    "\n",
    "Therefore, it is not necessary to store the entire matrix, but only the way to update the flux value based on its neighbors, using the constants found in the equation. This means that at every iteration the following the next flux iterate of flux is obtained usin:\n",
    "\\begin{equation}\n",
    "\\phi_{i,j}^{(k + 1)} = \\phi_{i,j}^{(k)} + \\frac{1}{s^{(c)}_{i,j}}\\left(q_{i, j} - (s^{(b)}_{i,j}\\phi_{i-1,j}^{(k)} + s^{(t)}_{i,j}\\phi_{i+1,j}^{(k)} + s^{(l)}_{i,j}\\phi_{i,j-1}^{(k)} + s^{(r)}_{i,j}\\phi_{i,j-1}^{(k)})\\right)\n",
    "\\end{equation}\n",
    "where $s^{(c)}_{i,j}=\\Sigma_a + 2D\\left(\\delta^{-2} + \\gamma^{-2}\\right)$, $s^{(l)}_{i,j} = s^{(r)}_{i,j} = -D\\gamma^{-2}$, and $s^{(t)}_{i,j} = s^{(b)}_{i,j} = -D\\delta^{-2}$"
   ]
  },
  {
   "cell_type": "markdown",
   "id": "4677d209-cd57-4604-ae4b-8048ce121e85",
   "metadata": {},
   "source": [
    "# 2. Numerical Experiments"
   ]
  },
  {
   "cell_type": "markdown",
   "id": "2cf9abac-e163-40fb-91ec-808655f9725b",
   "metadata": {},
   "source": [
    "Two major experiments are conducted to verify the correctness and scaling of the code:\n",
    "\n",
    "1. Comparison against LUP methods and serial version from Milestone #2.\n",
    "\n",
    "A small system of $n = 12$ is used to compare the resulting flux from LUP, Serial PJ, Parallel PJ.\n",
    "\n",
    "2. Timing measurements as a function of $n$ - the size of the system, and $P$ - number of processors used.\n",
    "\n",
    "To complete the second experiment, we selected four system with sizes $n=\\{128, 256, 512, 1024\\}$, uniformly spaced grids and unit $D=1$, and $\\Sigma_a=0.1$. The systems have a singular point source located in the top left corner of the rectangular region. The solutions, $\\phi_{i,j}$ are shown above for each system. All iterative methods were allowd to run for maximum of $500,000$ iterations with tolerance of $10^{-5}$ and relaxation fractor 1.905 (for SOR).\n"
   ]
  },
  {
   "cell_type": "code",
   "execution_count": 6,
   "id": "a1a555fa-b503-4214-a70f-6949c17cac39",
   "metadata": {},
   "outputs": [],
   "source": [
    "from utils import Grid, System, Parameters, Inputs\n",
    "\n",
    "grid_sizes = [128, 256, 512, 1024]\n",
    "\n",
    "\n",
    "def generate_input_file(n: int) -> None:\n",
    "    params = Parameters('gs', 1e-5, 500_000, 1.95)\n",
    "\n",
    "    system = System.from_point_sources(\n",
    "        Grid.build_square(10, n),\n",
    "        locs=(2.5, 2.5),\n",
    "        fwhms=1.0,\n",
    "        D=1, S=0.1\n",
    "    )\n",
    "\n",
    "    inputs = Inputs(params, system)\n",
    "\n",
    "    filepath = tests_dir / f'g{n}_{params.algorithm}.inp'\n",
    "    inputs.to_txt(filepath)\n",
    "\n",
    "    return inputs\n",
    "\n",
    "\n",
    "inputs = []\n",
    "for n in grid_sizes:\n",
    "    inp = generate_input_file(n)\n",
    "    inputs.append(inp)"
   ]
  },
  {
   "cell_type": "code",
   "execution_count": 4,
   "id": "06c319f1-76c3-4db3-9282-9a01ef957cf6",
   "metadata": {},
   "outputs": [
    {
     "data": {
      "image/png": "[encoded data removed]",
      "text/plain": [
       "<Figure size 640x480 with 1 Axes>"
      ]
     },
     "metadata": {},
     "output_type": "display_data"
    }
   ],
   "source": [
    "inp = inputs[-1]\n",
    "img = plt.imshow(inp.system.source, cmap='viridis')  # Use 'viridis' colormap\n",
    "plt.xlabel(\"X-axis\")\n",
    "plt.ylabel(\"Y-axis\")\n",
    "\n",
    "n = inp.system.grid.M\n",
    "plt.title(f\"Point Source ({n}x{n})\")\n",
    "plt.show()"
   ]
  },
  {
   "cell_type": "markdown",
   "id": "03aeb993-18c4-4bb0-9527-ab661acb9268",
   "metadata": {},
   "source": [
    "# 3. Results"
   ]
  },
  {
   "cell_type": "markdown",
   "id": "ac293bfc-45ff-4362-b02a-32ddc32599de",
   "metadata": {},
   "source": [
    "## Verification\n",
    "Verification according to the first experiment has been completed. The result flux and absolute residual are identifcal between Parallel and Serial PJ codes (wrt to Project 02), providing the same relative error of ~1e5 wrt to LUP."
   ]
  },
  {
   "cell_type": "markdown",
   "id": "4c536875-63fb-4325-b5dd-f3c812bee905",
   "metadata": {},
   "source": [
    "## Timing Scaling\n",
    "\n",
    "Below is the table with the results of the calculations. All systems converged, have the exact same number of iterations, relative error, and residual error, for each respective $n$, independent of $p$, which points that our implementation is synchronous."
   ]
  },
  {
   "cell_type": "code",
   "execution_count": 54,
   "id": "f8bdbe91-2cb2-41ff-8096-af6965bcb68f",
   "metadata": {},
   "outputs": [
    {
     "data": {
      "text/html": [
       "<div>\n",
       "<style scoped>\n",
       "    .dataframe tbody tr th:only-of-type {\n",
       "        vertical-align: middle;\n",
       "    }\n",
       "\n",
       "    .dataframe tbody tr th {\n",
       "        vertical-align: top;\n",
       "    }\n",
       "\n",
       "    .dataframe thead th {\n",
       "        text-align: right;\n",
       "    }\n",
       "</style>\n",
       "<table border=\"1\" class=\"dataframe\">\n",
       "  <thead>\n",
       "    <tr style=\"text-align: right;\">\n",
       "      <th></th>\n",
       "      <th>p</th>\n",
       "      <th>n</th>\n",
       "      <th>iters</th>\n",
       "      <th>time</th>\n",
       "      <th>iter_error</th>\n",
       "      <th>res_err</th>\n",
       "    </tr>\n",
       "  </thead>\n",
       "  <tbody>\n",
       "    <tr>\n",
       "      <th>0</th>\n",
       "      <td>1</td>\n",
       "      <td>128</td>\n",
       "      <td>13051</td>\n",
       "      <td>2.408801</td>\n",
       "      <td>0.00001</td>\n",
       "      <td>0.000058</td>\n",
       "    </tr>\n",
       "    <tr>\n",
       "      <th>1</th>\n",
       "      <td>1</td>\n",
       "      <td>256</td>\n",
       "      <td>39703</td>\n",
       "      <td>21.469733</td>\n",
       "      <td>0.00001</td>\n",
       "      <td>0.000225</td>\n",
       "    </tr>\n",
       "    <tr>\n",
       "      <th>2</th>\n",
       "      <td>1</td>\n",
       "      <td>512</td>\n",
       "      <td>111497</td>\n",
       "      <td>53.295766</td>\n",
       "      <td>0.00001</td>\n",
       "      <td>0.000854</td>\n",
       "    </tr>\n",
       "    <tr>\n",
       "      <th>3</th>\n",
       "      <td>1</td>\n",
       "      <td>1024</td>\n",
       "      <td>278576</td>\n",
       "      <td>275.428040</td>\n",
       "      <td>0.00001</td>\n",
       "      <td>0.003090</td>\n",
       "    </tr>\n",
       "    <tr>\n",
       "      <th>4</th>\n",
       "      <td>4</td>\n",
       "      <td>128</td>\n",
       "      <td>13051</td>\n",
       "      <td>0.821272</td>\n",
       "      <td>0.00001</td>\n",
       "      <td>0.000058</td>\n",
       "    </tr>\n",
       "    <tr>\n",
       "      <th>5</th>\n",
       "      <td>4</td>\n",
       "      <td>256</td>\n",
       "      <td>39703</td>\n",
       "      <td>7.393507</td>\n",
       "      <td>0.00001</td>\n",
       "      <td>0.000225</td>\n",
       "    </tr>\n",
       "    <tr>\n",
       "      <th>6</th>\n",
       "      <td>4</td>\n",
       "      <td>512</td>\n",
       "      <td>111497</td>\n",
       "      <td>11.971554</td>\n",
       "      <td>0.00001</td>\n",
       "      <td>0.000854</td>\n",
       "    </tr>\n",
       "    <tr>\n",
       "      <th>7</th>\n",
       "      <td>4</td>\n",
       "      <td>1024</td>\n",
       "      <td>278576</td>\n",
       "      <td>37.578655</td>\n",
       "      <td>0.00001</td>\n",
       "      <td>0.003090</td>\n",
       "    </tr>\n",
       "    <tr>\n",
       "      <th>8</th>\n",
       "      <td>16</td>\n",
       "      <td>128</td>\n",
       "      <td>13051</td>\n",
       "      <td>0.414304</td>\n",
       "      <td>0.00001</td>\n",
       "      <td>0.000058</td>\n",
       "    </tr>\n",
       "    <tr>\n",
       "      <th>9</th>\n",
       "      <td>16</td>\n",
       "      <td>256</td>\n",
       "      <td>39703</td>\n",
       "      <td>2.928991</td>\n",
       "      <td>0.00001</td>\n",
       "      <td>0.000225</td>\n",
       "    </tr>\n",
       "    <tr>\n",
       "      <th>10</th>\n",
       "      <td>16</td>\n",
       "      <td>512</td>\n",
       "      <td>111497</td>\n",
       "      <td>19.377561</td>\n",
       "      <td>0.00001</td>\n",
       "      <td>0.000854</td>\n",
       "    </tr>\n",
       "    <tr>\n",
       "      <th>11</th>\n",
       "      <td>16</td>\n",
       "      <td>1024</td>\n",
       "      <td>278576</td>\n",
       "      <td>32.367418</td>\n",
       "      <td>0.00001</td>\n",
       "      <td>0.003090</td>\n",
       "    </tr>\n",
       "    <tr>\n",
       "      <th>12</th>\n",
       "      <td>64</td>\n",
       "      <td>128</td>\n",
       "      <td>13051</td>\n",
       "      <td>1.030408</td>\n",
       "      <td>0.00001</td>\n",
       "      <td>0.000058</td>\n",
       "    </tr>\n",
       "    <tr>\n",
       "      <th>13</th>\n",
       "      <td>64</td>\n",
       "      <td>256</td>\n",
       "      <td>39703</td>\n",
       "      <td>2.865670</td>\n",
       "      <td>0.00001</td>\n",
       "      <td>0.000225</td>\n",
       "    </tr>\n",
       "    <tr>\n",
       "      <th>14</th>\n",
       "      <td>64</td>\n",
       "      <td>512</td>\n",
       "      <td>111497</td>\n",
       "      <td>8.927307</td>\n",
       "      <td>0.00001</td>\n",
       "      <td>0.000854</td>\n",
       "    </tr>\n",
       "    <tr>\n",
       "      <th>15</th>\n",
       "      <td>64</td>\n",
       "      <td>1024</td>\n",
       "      <td>278576</td>\n",
       "      <td>53.758315</td>\n",
       "      <td>0.00001</td>\n",
       "      <td>0.003090</td>\n",
       "    </tr>\n",
       "  </tbody>\n",
       "</table>\n",
       "</div>"
      ],
      "text/plain": [
       "     p     n   iters        time  iter_error   res_err\n",
       "0    1   128   13051    2.408801     0.00001  0.000058\n",
       "1    1   256   39703   21.469733     0.00001  0.000225\n",
       "2    1   512  111497   53.295766     0.00001  0.000854\n",
       "3    1  1024  278576  275.428040     0.00001  0.003090\n",
       "4    4   128   13051    0.821272     0.00001  0.000058\n",
       "5    4   256   39703    7.393507     0.00001  0.000225\n",
       "6    4   512  111497   11.971554     0.00001  0.000854\n",
       "7    4  1024  278576   37.578655     0.00001  0.003090\n",
       "8   16   128   13051    0.414304     0.00001  0.000058\n",
       "9   16   256   39703    2.928991     0.00001  0.000225\n",
       "10  16   512  111497   19.377561     0.00001  0.000854\n",
       "11  16  1024  278576   32.367418     0.00001  0.003090\n",
       "12  64   128   13051    1.030408     0.00001  0.000058\n",
       "13  64   256   39703    2.865670     0.00001  0.000225\n",
       "14  64   512  111497    8.927307     0.00001  0.000854\n",
       "15  64  1024  278576   53.758315     0.00001  0.003090"
      ]
     },
     "execution_count": 54,
     "metadata": {},
     "output_type": "execute_result"
    }
   ],
   "source": [
    "df = pd.read_csv(tests_dir / 'data.csv', index_col=0)\n",
    "df.reset_index(inplace=True)\n",
    "df"
   ]
  },
  {
   "cell_type": "markdown",
   "id": "5478e5b2-1544-4ff7-a723-3958134c59e3",
   "metadata": {},
   "source": [
    "## Execution time"
   ]
  },
  {
   "cell_type": "markdown",
   "id": "5cd72755-7a95-4432-b543-32d51474f3e6",
   "metadata": {},
   "source": [
    "Below is the plot of execution time as a function of number of processors used to solve the problem.\n",
    "It can be seen that generally that larger problems result in longer execution time.\n",
    "There is a general downward trend with increase of number of processors. However, there are some exceptions.\n",
    "It should be noted that there's a lot of variability in time measuremnts, which can be explained by the local state of the machine and network at the moment of the measurement."
   ]
  },
  {
   "cell_type": "code",
   "execution_count": 50,
   "id": "2a4f7e76-1765-4589-b770-24c712fefe89",
   "metadata": {},
   "outputs": [
    {
     "data": {
      "image/png": "[encoded data removed]",
      "text/plain": [
       "<Figure size 800x400 with 1 Axes>"
      ]
     },
     "metadata": {},
     "output_type": "display_data"
    }
   ],
   "source": [
    "fig, axes = plt.subplots(1, 1, layout='tight', figsize=(8, 4))\n",
    "\n",
    "for algo, dfa in df.groupby('n'):\n",
    "    axes.loglog('p', 'time', 's--', data=dfa, label=algo)\n",
    "\n",
    "axes.legend(title='Problem size')\n",
    "axes.set_xlabel('p')\n",
    "axes.set_ylabel('Time, s')\n",
    "\n",
    "plt.show()"
   ]
  },
  {
   "cell_type": "markdown",
   "id": "82c26f49-723a-46d8-95b4-b1cc68af739f",
   "metadata": {},
   "source": [
    "# 4. Discussion"
   ]
  },
  {
   "cell_type": "markdown",
   "id": "bfe7bae3-b1a5-44a1-bf18-fa5e7d4d641b",
   "metadata": {},
   "source": [
    "The implementation has been verified to be both correct and synchronous. The \"general\" reduction of executation time is visiable by in the graph above, however, it is obscured by the large variability of the associated with each data point. \n",
    "Another explanation for the \"upticks\" can be explained by the rising \"cost\" of maintaining communication between large number of processor. The update of halo gets more expensive with the growing number of processors. And it becomes expecially prominent when the block size becomes comparable to the halo size. This observation points to an existence of optimal number of processors for the given problem size, aka \"less\" is sometimes \"more\"."
   ]
  },
  {
   "cell_type": "markdown",
   "id": "a7c3bcac-239b-48b4-8e9c-37ac73e165c7",
   "metadata": {},
   "source": [
    "# 5. Conclusion"
   ]
  },
  {
   "cell_type": "markdown",
   "id": "cf82a029-1edb-4fc5-8723-6d54923b5781",
   "metadata": {},
   "source": [
    "We have implemented solution of finite difference methods using parallel Point-Jacobi algorith. Using the stencil and checker-board techniques, we were able to achieve synchronous parallel implementation, which numerially is practically indistinguishible from the serial code. We have observed reduction of execution time with the number of processors used. However, this general trend is obscured by the inefficiency of process-to-process communication and the state of compute machine and network at the moment of computation."
   ]
  },
  {
   "cell_type": "code",
   "execution_count": null,
   "id": "34a582d5-db5a-4977-8066-4470af78684f",
   "metadata": {},
   "outputs": [],
   "source": []
  }
 ],
 "metadata": {
  "kernelspec": {
   "display_name": "Python 3 (ipykernel)",
   "language": "python",
   "name": "python3"
  },
  "language_info": {
   "codemirror_mode": {
    "name": "ipython",
    "version": 3
   },
   "file_extension": ".py",
   "mimetype": "text/x-python",
   "name": "python",
   "nbconvert_exporter": "python",
   "pygments_lexer": "ipython3",
   "version": "3.12.9"
  }
 },
 "nbformat": 4,
 "nbformat_minor": 5
}
