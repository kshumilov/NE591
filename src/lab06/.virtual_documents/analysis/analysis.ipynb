





import pandas as pd
import matplotlib.pyplot as plt
from scipy.optimize import curve_fit
import numpy as np

import json


with open('timing_info.json') as f:
    data = json.load(f)
    df_all = pd.DataFrame.from_records(data)

df_all['time'] //= 1000
df_all['algo'] = pd.Categorical(df_all['algo'])


O = lambda x, n, C, S: C * (x ** n) + S





with pd.option_context('display.precision', 5, "display.expand_frame_repr", False, 'display.float_format', lambda f: f'{f: 12.6e}'):
    print(pd.pivot(df_all[df_all.algo != 'LUP'], columns='n', index='algo', values='relative_error'))


fig, ax = plt.subplots(1, 1, layout='tight', sharex=True)
for i, (algo, dfa) in enumerate(df_all[df_all.algo != 'LUP'].groupby('algo', observed=True)):
    ax.loglog('n', 'relative_error', 's-', data=dfa, label=algo)
ax.legend()
ax.set_xlabel('Matrix Rank, n')
ax.set_ylabel('Max Relative Error, $\delta$')
plt.show()








fig, ax = plt.subplots(1, 1, layout='tight', sharex=True)
for i, (algo, dfa) in enumerate(df_all.groupby('algo', observed=True)):
    popt, pcov = curve_fit(O, dfa['n'], dfa['time'], p0=(2, 1e-2, 0), bounds=([0, 0, 0], [np.inf, np.inf, np.inf]))
    ax.loglog('n', 'time', 's', data=dfa, label=' '.join([f'{algo}', r'$O(n^{%3.2f})$' % (popt[0])]), color=f'C{i}')
    ax.loglog(dfa['n'], O(dfa['n'], *popt), '-', color=f'C{i}')

ax.legend()
ax.set_xlabel('Matrix Rank, n')
ax.set_ylabel('Execuation Time, ms')
ax.grid(True)

plt.show()








fig, ax = plt.subplots(1, 1, layout='tight', sharex=True)
for i, (algo, dfa) in enumerate(df_all[df_all.algo != 'LUP'].groupby('algo', observed=True)):
    popt, pcov = curve_fit(O, dfa['n'], dfa['iterations'], p0=(2, 1e-2, 0), bounds=([0, 0, 0], [np.inf, np.inf, np.inf]))
    ax.loglog('n', 'iterations', 's', data=dfa, label=' '.join([f'{algo}', r'$O(n^{%3.2f})$' % (popt[0])]), color=f'C{i}')
    ax.loglog(dfa['n'], O(dfa['n'], *popt), '-', color=f'C{i}')

ax.legend()
ax.set_xlabel('Matrix Rank, n')
ax.set_ylabel('#Iterations to Converge, ms')
ax.grid(True)

plt.show()



