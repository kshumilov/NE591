





import json
import pathlib

import numpy as np
import pandas as pd
import matplotlib.pyplot as plt


from dataclasses import dataclass, asdict, field


defaults = dict(X = 1, Y = 1, D = 1, S = 1, Q = 1)


@dataclass
class Problem:
    X: float = defaults['X']
    Y: float =  defaults['Y']
    NX: int = 1
    NY: int = 1
    D: float = defaults['D']
    S: float = defaults['S']
    q: np.ndarray = field(default_factory=lambda: np.zeros((1, 1), dtype=np.float64))

    @classmethod
    def from_json(cls, filename) -> 'Problem':
        with open(filename, 'r') as f:
            j = json.load(f)

        return cls.from_dict(j)

    @classmethod
    def from_dict(cls, j):
        return cls(
            j['grid']['space']['X'], 
            j['grid']['space']['Y'],
            j['grid']['points']['NX'], 
            j['grid']['points']['NY'], 
            j['absorption_scattering'],
            j['diffusion_coefficient'],
            np.asarray(j['source']['m_data']).reshape(j['source']['m_rows'], j['source']['m_cols'])
        )

    def to_dict(self):
        d = {
            'grid': {
                'space': {'X': self.X, 'Y': self.Y},
                'points': {'NX': self.NX, 'NY': self.NY},
            },
            'absorption_scattering': self.D,
            'diffusion_coefficient': self.S,
            'source': {
                'm_rows': self.q.shape[0],
                'm_cols': self.q.shape[1],
                'm_data': self.q.flatten().tolist()
            }
        }

        return d

    def to_json(self, filename: str):
        with open(filename, 'w') as f:
            json.dump(self.to_dict(), f)


@dataclass
class Solution:
    prob: Problem
    flux: np.ndarray
    residual: np.ndarray

    @classmethod
    def from_json(cls, filename) -> 'Problem':
        with open(filename, 'r') as f:
            j = json.load(f)

        return cls(
            Problem.from_dict(j['problem']),
            np.asarray(j['flux']['m_data']).reshape(j['flux']['m_rows'], j['flux']['m_cols']),
            np.asarray(j['residual'])
        )

















def generate_point_problem(N, X, Y, D, S, Q):
    Qx, Qy = N // 2, N // 2

    q = np.zeros((N, N), dtype=np.float64)
    q[Qx, Qy] += Q

    return Problem(
        X, Y, N, N, D, S,
        q=q,
    )


def vary_grid_size(N):
    problems = {}

    for n in N:
        p = problems[n] = generate_point_problem(n, **defaults)
        p.to_json(f'examples/p{n}.json')


N = [4, 8, 16, 32, 64]
vary_grid_size(N)








def generate_line_problem(N, X, Y, D, S, Q):
    Qx = N // 2

    q = np.zeros((N, N), dtype=np.float64)
    q[Qx] += Q

    return Problem(
        X, Y, N, N, D, S,
        q=q,
    )

p = generate_line_problem(64, **defaults)
p.to_json('examples/l64.json')








def plot_n(n, ax):
    s = Solution.from_json(f'examples/p{n}_result.json')
    img = ax.imshow(s.flux, cmap='viridis')  # Use 'viridis' colormap


    # Add labels and title (optional)
    ax.set_xlabel("X-axis")
    ax.set_ylabel("Y-axis")
    ax.set_title(f"Point Source ({n}x{n})")

    return img


fig, axes = plt.subplots(2, 3, tight_layout=True)

plot_n(4, axes[0, 0])
plot_n(8, axes[0, 1])
plot_n(16, axes[0, 2])
plot_n(32, axes[1, 0])
img = plot_n(64, axes[1, 1])


# Add a colorbar for reference
plt.colorbar(img, cax=axes[1, 2])

# Show the plot
plt.show()








df = pd.read_csv('examples/data.csv')

fig, axes = plt.subplots(1, 3, tight_layout=True, sharex=True, figsize=(7, 4))

axes[0].plot('n', 'time', 's--', data=df)
axes[1].plot('n', 'residual', 's--', data=df)
axes[2].plot('n', 'mem_est','s--', data=df)

axes[0].set_xlabel('Grid size')
axes[1].set_xlabel('Grid size')
axes[2].set_xlabel('Grid size')

axes[0].set_ylabel('Time, s')
axes[1].set_ylabel('Residual')
axes[2].set_ylabel('Bytes')

axes[0].set_title('Time Scaling')
axes[1].set_title('Error Scaling')
axes[2].set_title('Memory Scaling')

fig.suptitle

plt.show()











s = Solution.from_json('examples/l64_result.json')

# Create the heatmap
plt.imshow(s.flux, cmap='viridis')  # Use 'viridis' colormap

# Add a colorbar for reference
plt.colorbar()

# Add labels and title (optional)
plt.xlabel("X-axis")
plt.ylabel("Y-axis")
plt.title(f" Line Source ({64}x{64})")

# Show the plot
plt.show()









